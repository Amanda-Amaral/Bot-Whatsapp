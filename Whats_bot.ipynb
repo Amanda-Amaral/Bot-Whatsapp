{
 "cells": [
  {
   "cell_type": "code",
   "execution_count": 56,
   "metadata": {},
   "outputs": [
    {
     "name": "stderr",
     "output_type": "stream",
     "text": [
      "\n",
      "\n",
      "====== WebDriver manager ======\n",
      "Current google-chrome version is 96.0.4664\n",
      "Get LATEST driver version for 96.0.4664\n",
      "Driver [C:\\Users\\doama\\.wdm\\drivers\\chromedriver\\win32\\96.0.4664.45\\chromedriver.exe] found in cache\n"
     ]
    }
   ],
   "source": [
    "from selenium import webdriver\n",
    "from webdriver_manager.chrome import ChromeDriverManager\n",
    "from selenium.webdriver.common.keys import Keys\n",
    "import pandas as pd\n",
    "driver = webdriver.Chrome(ChromeDriverManager().install())"
   ]
  },
  {
   "cell_type": "code",
   "execution_count": 57,
   "metadata": {},
   "outputs": [],
   "source": [
    "driver.get('https://web.whatsapp.com/')"
   ]
  },
  {
   "cell_type": "markdown",
   "metadata": {},
   "source": [
    "## Scanear o QR Code do whatsapp a ser automatizado"
   ]
  },
  {
   "cell_type": "code",
   "execution_count": 102,
   "metadata": {},
   "outputs": [],
   "source": [
    "agenda = pd.read_csv(\"vazio.csv\", sep = \";\")"
   ]
  },
  {
   "cell_type": "code",
   "execution_count": 103,
   "metadata": {},
   "outputs": [
    {
     "data": {
      "text/html": [
       "<div>\n",
       "<style scoped>\n",
       "    .dataframe tbody tr th:only-of-type {\n",
       "        vertical-align: middle;\n",
       "    }\n",
       "\n",
       "    .dataframe tbody tr th {\n",
       "        vertical-align: top;\n",
       "    }\n",
       "\n",
       "    .dataframe thead th {\n",
       "        text-align: right;\n",
       "    }\n",
       "</style>\n",
       "<table border=\"1\" class=\"dataframe\">\n",
       "  <thead>\n",
       "    <tr style=\"text-align: right;\">\n",
       "      <th></th>\n",
       "      <th>Contato</th>\n",
       "      <th>Mensagem 1</th>\n",
       "      <th>Mensagem 2</th>\n",
       "    </tr>\n",
       "  </thead>\n",
       "  <tbody>\n",
       "    <tr>\n",
       "      <th>0</th>\n",
       "      <td>Hugo</td>\n",
       "      <td>Oi tudo bem?</td>\n",
       "      <td>Conseguiu ver o problema do celular?</td>\n",
       "    </tr>\n",
       "    <tr>\n",
       "      <th>1</th>\n",
       "      <td>Adriana</td>\n",
       "      <td>Gente que doideira! Nao sabia</td>\n",
       "      <td>NaN</td>\n",
       "    </tr>\n",
       "    <tr>\n",
       "      <th>2</th>\n",
       "      <td>Amandaula</td>\n",
       "      <td>Estou com covid nao posso sair hoje! Teste amiga</td>\n",
       "      <td>NaN</td>\n",
       "    </tr>\n",
       "    <tr>\n",
       "      <th>3</th>\n",
       "      <td>Bia</td>\n",
       "      <td>Oi isso eh soh um teste :)</td>\n",
       "      <td>NaN</td>\n",
       "    </tr>\n",
       "  </tbody>\n",
       "</table>\n",
       "</div>"
      ],
      "text/plain": [
       "     Contato                                        Mensagem 1  \\\n",
       "0       Hugo                                      Oi tudo bem?   \n",
       "1    Adriana                     Gente que doideira! Nao sabia   \n",
       "2  Amandaula  Estou com covid nao posso sair hoje! Teste amiga   \n",
       "3        Bia                        Oi isso eh soh um teste :)   \n",
       "\n",
       "                             Mensagem 2  \n",
       "0  Conseguiu ver o problema do celular?  \n",
       "1                                   NaN  \n",
       "2                                   NaN  \n",
       "3                                   NaN  "
      ]
     },
     "execution_count": 103,
     "metadata": {},
     "output_type": "execute_result"
    }
   ],
   "source": [
    "agenda.head()"
   ]
  },
  {
   "cell_type": "markdown",
   "metadata": {},
   "source": [
    "### Testes para ver se localiza a mensagem correta"
   ]
  },
  {
   "cell_type": "code",
   "execution_count": 114,
   "metadata": {},
   "outputs": [
    {
     "data": {
      "text/plain": [
       "0    Oi tudo bem?\n",
       "Name: Mensagem 1, dtype: object"
      ]
     },
     "execution_count": 114,
     "metadata": {},
     "output_type": "execute_result"
    }
   ],
   "source": [
    "agenda.loc[agenda[\"Contato\"]==\"Hugo\",\"Mensagem 1\"]"
   ]
  },
  {
   "cell_type": "code",
   "execution_count": 108,
   "metadata": {},
   "outputs": [
    {
     "data": {
      "text/plain": [
       "0    Conseguiu ver o problema do celular?\n",
       "1                                     NaN\n",
       "2                                     NaN\n",
       "3                                     NaN\n",
       "Name: Mensagem 2, dtype: object"
      ]
     },
     "execution_count": 108,
     "metadata": {},
     "output_type": "execute_result"
    }
   ],
   "source": [
    "agenda[\"Mensagem 2\"] #Coluna das segundas mensagens"
   ]
  },
  {
   "cell_type": "markdown",
   "metadata": {},
   "source": [
    "### Selecionando os campos de pesquisa do Whatsapp e armazenando para uso no looping em seguida"
   ]
  },
  {
   "cell_type": "code",
   "execution_count": 118,
   "metadata": {},
   "outputs": [],
   "source": [
    "for contato in agenda[\"Contato\"].values:\n",
    "    barra_pesquisa = driver.find_element_by_css_selector(\"#side > div.uwk68 > div > label > div > div._13NKt.copyable-text.selectable-text\")\n",
    "    barra_pesquisa.send_keys(contato)\n",
    "    barra_pesquisa.send_keys(Keys.ENTER)\n",
    "    barra_chat = driver.find_element_by_css_selector(\"#main > footer > div._2BU3P.tm2tP.copyable-area > div > span:nth-child(2) > div > div._2lMWa > div.p3_M1 > div > div._13NKt.copyable-text.selectable-text\")\n",
    "    barra_chat.send_keys(agenda.loc[agenda[\"Contato\"]==contato,\"Mensagem 1\"])\n",
    "    barra_chat.send_keys(Keys.ENTER)\n",
    "    if len(agenda.loc[agenda[\"Contato\"]==contato,\"Mensagem 2\"]) != 0:\n",
    "        barra_chat.send_keys(agenda.loc[agenda[\"Contato\"]==contato,\"Mensagem 2\"])\n",
    "        barra_chat.send_keys(Keys.ENTER)"
   ]
  },
  {
   "cell_type": "code",
   "execution_count": 119,
   "metadata": {},
   "outputs": [
    {
     "name": "stdout",
     "output_type": "stream",
     "text": [
      "Mensagens enviadas\n"
     ]
    }
   ],
   "source": [
    "print(\"Mensagens enviadas\")"
   ]
  }
 ],
 "metadata": {
  "kernelspec": {
   "display_name": "Python 3",
   "language": "python",
   "name": "python3"
  },
  "language_info": {
   "codemirror_mode": {
    "name": "ipython",
    "version": 3
   },
   "file_extension": ".py",
   "mimetype": "text/x-python",
   "name": "python",
   "nbconvert_exporter": "python",
   "pygments_lexer": "ipython3",
   "version": "3.8.5"
  }
 },
 "nbformat": 4,
 "nbformat_minor": 4
}
